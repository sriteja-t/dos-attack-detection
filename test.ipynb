{
 "cells": [
  {
   "cell_type": "code",
   "execution_count": null,
   "metadata": {},
   "outputs": [],
   "source": [
    "import pandas as pd\n",
    "import matplotlib.pyplot as plt\n",
    "import heapq\n",
    "import seaborn as sns\n",
    "import itertools"
   ]
  },
  {
   "cell_type": "code",
   "execution_count": null,
   "metadata": {},
   "outputs": [],
   "source": [
    "df = pd.read_csv(\"ush.csv\")\n",
    "df.head()"
   ]
  },
  {
   "cell_type": "code",
   "execution_count": null,
   "metadata": {},
   "outputs": [],
   "source": [
    "# ipCounts = dict(df[\"remote_host\"].value_counts())\n",
    "# ipCounts\n",
    "\n",
    "\n",
    "# ip = list(map(str, list(ipCounts.keys())))\n",
    "# ipFrequency = list(ipCounts.values())\n",
    "# patches, texts = plt.pie(ipFrequency)\n",
    "# plt.legend(patches, ip, loc=\"best\")\n",
    "# plt.axis('equal')\n",
    "# plt.tight_layout()\n",
    "# plt.show()"
   ]
  },
  {
   "cell_type": "code",
   "execution_count": null,
   "metadata": {},
   "outputs": [],
   "source": [
    "statusCodeCounts = dict(df[\"status\"].value_counts())\n",
    "statusCodeCounts\n",
    "statusCodes = list(map(str, list(statusCodeCounts.keys())))\n",
    "statusCounts = list(statusCodeCounts.values())\n",
    "#plot pie\n",
    "patches, texts = plt.pie(statusCounts)\n",
    "plt.legend(patches, statusCodes, loc=\"best\")\n",
    "plt.axis('equal')\n",
    "plt.tight_layout()\n",
    "plt.show()"
   ]
  },
  {
   "cell_type": "code",
   "execution_count": null,
   "metadata": {},
   "outputs": [],
   "source": [
    "countryCounts = dict(df['Country'].value_counts())\n",
    "new = heapq.nlargest(10, countryCounts, key=countryCounts.values)\n",
    "# countryName = list(countryCounts.keys())\n",
    "# countryNameCounts = list(countryCounts.values())\n",
    "new\n",
    "# fig = plt.figure(figsize = (20, 10))\n",
    "# plt.bar(countryName, countryNameCounts, width=0.8)\n",
    "# plt.show()"
   ]
  },
  {
   "cell_type": "code",
   "execution_count": null,
   "metadata": {},
   "outputs": [],
   "source": [
    "df = pd.read_csv(\"ush.csv\")\n",
    "print(df.shape)"
   ]
  },
  {
   "cell_type": "code",
   "execution_count": null,
   "metadata": {},
   "outputs": [],
   "source": [
    "for col_name in df.columns:\n",
    "    print(col_name, end=\"\\n\")"
   ]
  },
  {
   "cell_type": "code",
   "execution_count": null,
   "metadata": {},
   "outputs": [],
   "source": [
    "df[\"request_method\"].value_counts()\n",
    "request_method_data = dict(df[\"request_method\"].value_counts())\n",
    "plt.bar(request_method_data.keys(), request_method_data.values())\n",
    "plt.title(\"Request method count\")\n",
    "plt.xlabel(\"Request method\")\n",
    "plt.ylabel(\"Number of requests\")"
   ]
  },
  {
   "cell_type": "code",
   "execution_count": null,
   "metadata": {},
   "outputs": [],
   "source": [
    "remote_host_data = dict(df[\"remote_host\"].value_counts())\n",
    "asdf = {k: v for k, v in sorted(remote_host_data.items(), reverse=True, key=lambda item: item[1])}\n",
    "zxcv = dict(itertools.islice(asdf.items(), 10))\n",
    "\n",
    "plt.bar(zxcv.keys(), zxcv.values())\n",
    "plt.title(\"Remote host count\")\n",
    "plt.xlabel(\"Remote hosts\")\n",
    "plt.ylabel(\"Number of requests\")\n",
    "plt.xticks(list(zxcv.keys()), rotation=90)"
   ]
  },
  {
   "cell_type": "code",
   "execution_count": null,
   "metadata": {},
   "outputs": [],
   "source": [
    "zxcv\n",
    "top_remote_hosts = list(zxcv.keys())\n",
    "top_remote_hosts"
   ]
  },
  {
   "cell_type": "code",
   "execution_count": null,
   "metadata": {},
   "outputs": [],
   "source": [
    "df_remotehost_country = df[[\"remote_host\", \"Country\"]]\n",
    "df_remotehost_country.head()"
   ]
  },
  {
   "cell_type": "code",
   "execution_count": null,
   "metadata": {},
   "outputs": [],
   "source": [
    "df_new = df_remotehost_country[df_remotehost_country[\"remote_host\"].isin(top_remote_hosts)]\n",
    "df_new[\"new_col\"] = df_new[\"remote_host\"] + \"\\n\" + df_new[\"Country\"]\n",
    "df_new"
   ]
  },
  {
   "cell_type": "code",
   "execution_count": null,
   "metadata": {},
   "outputs": [],
   "source": [
    "gg = dict(df_new[\"new_col\"].value_counts())\n",
    "plt.bar(gg.keys(), gg.values())\n",
    "plt.title(\"Remote host count\")\n",
    "plt.xlabel(\"Remote hosts\")\n",
    "plt.ylabel(\"Number of requests\")\n",
    "plt.xticks(list(gg.keys()), rotation=90)"
   ]
  },
  {
   "cell_type": "code",
   "execution_count": null,
   "metadata": {},
   "outputs": [],
   "source": [
    "df.head()\n",
    "df[\"Country\"].value_counts()\n",
    "list(df[\"Country\"].unique())"
   ]
  },
  {
   "cell_type": "code",
   "execution_count": null,
   "metadata": {},
   "outputs": [],
   "source": [
    "\n",
    "import plotly.express as px\n",
    "\n",
    "df = px.data.gapminder().query(\"year==2007\")\n",
    "fig = px.choropleth(df, locations=\"iso_alpha\",\n",
    "                    color=\"lifeExp\", # lifeExp is a column of gapminder\n",
    "                    hover_name=\"country\", # column to add to hover information\n",
    "                    color_continuous_scale=px.colors.sequential.Plasma)\n",
    "fig.show()"
   ]
  }
 ],
 "metadata": {
  "kernelspec": {
   "display_name": "Python 3.10.7 64-bit",
   "language": "python",
   "name": "python3"
  },
  "language_info": {
   "codemirror_mode": {
    "name": "ipython",
    "version": 3
   },
   "file_extension": ".py",
   "mimetype": "text/x-python",
   "name": "python",
   "nbconvert_exporter": "python",
   "pygments_lexer": "ipython3",
   "version": "3.10.7"
  },
  "orig_nbformat": 4,
  "vscode": {
   "interpreter": {
    "hash": "e7370f93d1d0cde622a1f8e1c04877d8463912d04d973331ad4851f04de6915a"
   }
  }
 },
 "nbformat": 4,
 "nbformat_minor": 2
}
