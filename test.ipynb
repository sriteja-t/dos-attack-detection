{
 "cells": [
  {
   "cell_type": "code",
   "execution_count": 30,
   "metadata": {},
   "outputs": [],
   "source": [
    "import pandas as pd\n",
    "import matplotlib.pyplot as plt\n",
    "import heapq\n",
    "# import seaborn as sns"
   ]
  },
  {
   "cell_type": "code",
   "execution_count": null,
   "metadata": {},
   "outputs": [],
   "source": [
    "df = pd.read_csv(\"ush.csv\")\n",
    "df.head()"
   ]
  },
  {
   "cell_type": "code",
   "execution_count": null,
   "metadata": {},
   "outputs": [],
   "source": [
    "ipCounts = dict(df[\"remote_host\"].value_counts())\n",
    "ipCounts\n",
    "\n",
    "\n",
    "ip = list(map(str, list(ipCounts.keys())))\n",
    "ipFrequency = list(ipCounts.values())\n",
    "patches, texts = plt.pie(ipFrequency)\n",
    "plt.legend(patches, ip, loc=\"best\")\n",
    "plt.axis('equal')\n",
    "plt.tight_layout()\n",
    "plt.show()"
   ]
  },
  {
   "cell_type": "code",
   "execution_count": null,
   "metadata": {},
   "outputs": [],
   "source": [
    "statusCodeCounts = dict(df[\"status\"].value_counts())\n",
    "statusCodeCounts\n",
    "statusCodes = list(map(str, list(statusCodeCounts.keys())))\n",
    "statusCounts = list(statusCodeCounts.values())\n",
    "#plot pie\n",
    "patches, texts = plt.pie(statusCounts)\n",
    "plt.legend(patches, statusCodes, loc=\"best\")\n",
    "plt.axis('equal')\n",
    "plt.tight_layout()\n",
    "plt.show()"
   ]
  },
  {
   "cell_type": "code",
   "execution_count": 37,
   "metadata": {},
   "outputs": [
    {
     "ename": "TypeError",
     "evalue": "'dict_values' object is not callable",
     "output_type": "error",
     "traceback": [
      "\u001b[1;31m---------------------------------------------------------------------------\u001b[0m",
      "\u001b[1;31mTypeError\u001b[0m                                 Traceback (most recent call last)",
      "\u001b[1;32mc:\\Users\\NAVYA\\Documents\\GitHub\\dos-attack-detection\\test.ipynb Cell 5\u001b[0m in \u001b[0;36m<cell line: 2>\u001b[1;34m()\u001b[0m\n\u001b[0;32m      <a href='vscode-notebook-cell:/c%3A/Users/NAVYA/Documents/GitHub/dos-attack-detection/test.ipynb#X10sZmlsZQ%3D%3D?line=0'>1</a>\u001b[0m countryCounts \u001b[39m=\u001b[39m \u001b[39mdict\u001b[39m(df[\u001b[39m'\u001b[39m\u001b[39mCountry\u001b[39m\u001b[39m'\u001b[39m]\u001b[39m.\u001b[39mvalue_counts())\n\u001b[1;32m----> <a href='vscode-notebook-cell:/c%3A/Users/NAVYA/Documents/GitHub/dos-attack-detection/test.ipynb#X10sZmlsZQ%3D%3D?line=1'>2</a>\u001b[0m new \u001b[39m=\u001b[39m heapq\u001b[39m.\u001b[39;49mnlargest(\u001b[39m10\u001b[39;49m, countryCounts, key\u001b[39m=\u001b[39;49mcountryCounts\u001b[39m.\u001b[39;49mvalues())\n\u001b[0;32m      <a href='vscode-notebook-cell:/c%3A/Users/NAVYA/Documents/GitHub/dos-attack-detection/test.ipynb#X10sZmlsZQ%3D%3D?line=2'>3</a>\u001b[0m \u001b[39m# countryName = list(countryCounts.keys())\u001b[39;00m\n\u001b[0;32m      <a href='vscode-notebook-cell:/c%3A/Users/NAVYA/Documents/GitHub/dos-attack-detection/test.ipynb#X10sZmlsZQ%3D%3D?line=3'>4</a>\u001b[0m \u001b[39m# countryNameCounts = list(countryCounts.values())\u001b[39;00m\n\u001b[0;32m      <a href='vscode-notebook-cell:/c%3A/Users/NAVYA/Documents/GitHub/dos-attack-detection/test.ipynb#X10sZmlsZQ%3D%3D?line=4'>5</a>\u001b[0m new\n",
      "File \u001b[1;32mc:\\Users\\NAVYA\\AppData\\Local\\Programs\\Python\\Python310\\lib\\heapq.py:563\u001b[0m, in \u001b[0;36mnlargest\u001b[1;34m(n, iterable, key)\u001b[0m\n\u001b[0;32m    561\u001b[0m \u001b[39m# General case, slowest method\u001b[39;00m\n\u001b[0;32m    562\u001b[0m it \u001b[39m=\u001b[39m \u001b[39miter\u001b[39m(iterable)\n\u001b[1;32m--> 563\u001b[0m result \u001b[39m=\u001b[39m [(key(elem), i, elem) \u001b[39mfor\u001b[39;00m i, elem \u001b[39min\u001b[39;00m \u001b[39mzip\u001b[39m(\u001b[39mrange\u001b[39m(\u001b[39m0\u001b[39m, \u001b[39m-\u001b[39mn, \u001b[39m-\u001b[39m\u001b[39m1\u001b[39m), it)]\n\u001b[0;32m    564\u001b[0m \u001b[39mif\u001b[39;00m \u001b[39mnot\u001b[39;00m result:\n\u001b[0;32m    565\u001b[0m     \u001b[39mreturn\u001b[39;00m result\n",
      "File \u001b[1;32mc:\\Users\\NAVYA\\AppData\\Local\\Programs\\Python\\Python310\\lib\\heapq.py:563\u001b[0m, in \u001b[0;36m<listcomp>\u001b[1;34m(.0)\u001b[0m\n\u001b[0;32m    561\u001b[0m \u001b[39m# General case, slowest method\u001b[39;00m\n\u001b[0;32m    562\u001b[0m it \u001b[39m=\u001b[39m \u001b[39miter\u001b[39m(iterable)\n\u001b[1;32m--> 563\u001b[0m result \u001b[39m=\u001b[39m [(key(elem), i, elem) \u001b[39mfor\u001b[39;00m i, elem \u001b[39min\u001b[39;00m \u001b[39mzip\u001b[39m(\u001b[39mrange\u001b[39m(\u001b[39m0\u001b[39m, \u001b[39m-\u001b[39mn, \u001b[39m-\u001b[39m\u001b[39m1\u001b[39m), it)]\n\u001b[0;32m    564\u001b[0m \u001b[39mif\u001b[39;00m \u001b[39mnot\u001b[39;00m result:\n\u001b[0;32m    565\u001b[0m     \u001b[39mreturn\u001b[39;00m result\n",
      "\u001b[1;31mTypeError\u001b[0m: 'dict_values' object is not callable"
     ]
    }
   ],
   "source": [
    "countryCounts = dict(df['Country'].value_counts())\n",
    "new = heapq.nlargest(10, countryCounts, key=countryCounts.values)\n",
    "# countryName = list(countryCounts.keys())\n",
    "# countryNameCounts = list(countryCounts.values())\n",
    "new\n",
    "# fig = plt.figure(figsize = (20, 10))\n",
    "# plt.bar(countryName, countryNameCounts, width=0.8)\n",
    "# plt.show()"
   ]
  },
  {
   "cell_type": "code",
   "execution_count": null,
   "metadata": {},
   "outputs": [],
   "source": []
  },
  {
   "cell_type": "code",
   "execution_count": null,
   "metadata": {},
   "outputs": [],
   "source": []
  }
 ],
 "metadata": {
  "kernelspec": {
   "display_name": "Python 3.10.4 64-bit",
   "language": "python",
   "name": "python3"
  },
  "language_info": {
   "codemirror_mode": {
    "name": "ipython",
    "version": 3
   },
   "file_extension": ".py",
   "mimetype": "text/x-python",
   "name": "python",
   "nbconvert_exporter": "python",
   "pygments_lexer": "ipython3",
   "version": "3.10.4"
  },
  "orig_nbformat": 4,
  "vscode": {
   "interpreter": {
    "hash": "de3de0cc470124b943ee1f1888140abeeb856b9868e04a284571b8b97429472c"
   }
  }
 },
 "nbformat": 4,
 "nbformat_minor": 2
}
